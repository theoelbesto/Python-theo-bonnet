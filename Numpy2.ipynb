{
 "cells": [
  {
   "cell_type": "code",
   "execution_count": 1,
   "id": "c4a91afc",
   "metadata": {},
   "outputs": [],
   "source": [
    "import numpy as np"
   ]
  },
  {
   "cell_type": "code",
   "execution_count": 3,
   "id": "38eea7d4",
   "metadata": {},
   "outputs": [
    {
     "name": "stdout",
     "output_type": "stream",
     "text": [
      "[  0   1   2   3   4   5   6   7   8  -9 -10 -11 -12 -13 -14 -15  16  17\n",
      "  18  19  20]\n"
     ]
    }
   ],
   "source": [
    "def Ex1():\n",
    "    A=np.arange(21)\n",
    "    A[9:16]=A[9:16]*(-1)\n",
    "    return (A)\n",
    "print(Ex1())"
   ]
  },
  {
   "cell_type": "code",
   "execution_count": 42,
   "id": "a56e7354",
   "metadata": {
    "scrolled": true
   },
   "outputs": [
    {
     "name": "stdout",
     "output_type": "stream",
     "text": [
      "[16 17 18 19 20 21 22 23 24 25 26 27 28 29 30 31 32 33 34 35 36 37 38 39\n",
      " 40 41 42 43 44 45 46 47 48 49 50 51 52 53 54]\n"
     ]
    },
    {
     "data": {
      "text/plain": [
       "array([15, 16, 17, 18, 19, 20, 21, 22, 23, 24, 25, 26, 27, 28, 29, 30, 31,\n",
       "       32, 33, 34, 35, 36, 37, 38, 39, 40, 41, 42, 43, 44, 45, 46, 47, 48,\n",
       "       49, 50, 51, 52, 53, 54, 55])"
      ]
     },
     "execution_count": 42,
     "metadata": {},
     "output_type": "execute_result"
    }
   ],
   "source": [
    "def Ex2():\n",
    "    A=np.arange(15,56)\n",
    "    print(A[1:-1])\n",
    "    return A\n",
    "Ex2()"
   ]
  },
  {
   "cell_type": "code",
   "execution_count": null,
   "id": "c87085b7",
   "metadata": {},
   "outputs": [],
   "source": []
  },
  {
   "cell_type": "code",
   "execution_count": 6,
   "id": "0539cea8",
   "metadata": {},
   "outputs": [
    {
     "name": "stdout",
     "output_type": "stream",
     "text": [
      "[ 5. 10. 15. 20. 25. 30. 35. 40. 45. 50.]\n"
     ]
    }
   ],
   "source": [
    "def Ex4():\n",
    "    A=np.linspace(5,50,10)\n",
    "    return A\n",
    "print(Ex4())"
   ]
  },
  {
   "cell_type": "code",
   "execution_count": 7,
   "id": "56671e6c",
   "metadata": {},
   "outputs": [
    {
     "name": "stdout",
     "output_type": "stream",
     "text": [
      "[5 0 9 7 7]\n"
     ]
    }
   ],
   "source": [
    "def Ex5():\n",
    "    A=np.random.randint(0, 11, size=5)\n",
    "    return A\n",
    "print(Ex5())"
   ]
  },
  {
   "cell_type": "code",
   "execution_count": 9,
   "id": "bda7c652",
   "metadata": {},
   "outputs": [
    {
     "name": "stdout",
     "output_type": "stream",
     "text": [
      "[ 8 32  2  8 20]\n"
     ]
    }
   ],
   "source": [
    "def Ex6(A,B):\n",
    "    return A*B\n",
    "print(Ex6(Ex5(),Ex5()))"
   ]
  },
  {
   "cell_type": "code",
   "execution_count": 11,
   "id": "877428a1",
   "metadata": {},
   "outputs": [
    {
     "name": "stdout",
     "output_type": "stream",
     "text": [
      "[[10 11 12 13]\n",
      " [14 15 16 17]\n",
      " [18 19 20 21]]\n"
     ]
    }
   ],
   "source": [
    "def Ex7():\n",
    "    A= np.arange(10,22).reshape(3,4)\n",
    "    return A\n",
    "print(Ex7())"
   ]
  },
  {
   "cell_type": "code",
   "execution_count": 12,
   "id": "1cb7b4f0",
   "metadata": {},
   "outputs": [
    {
     "name": "stdout",
     "output_type": "stream",
     "text": [
      "(3, 4)\n"
     ]
    }
   ],
   "source": [
    "def Ex8(A):\n",
    "    return A.shape\n",
    "print(Ex8(Ex7()))"
   ]
  },
  {
   "cell_type": "code",
   "execution_count": 41,
   "id": "5444d741",
   "metadata": {},
   "outputs": [
    {
     "name": "stdout",
     "output_type": "stream",
     "text": [
      "[[0 1 0 1]\n",
      " [1 0 1 0]\n",
      " [0 1 0 1]\n",
      " [1 0 1 0]]\n"
     ]
    }
   ],
   "source": [
    "def Ex9():\n",
    "    A=np.zeros((4,4),dtype=int)\n",
    "    for i in range(4):\n",
    "        for j in range(4):\n",
    "            if (i+j)%2!=0:\n",
    "                A[i,j]=1\n",
    "    return A\n",
    "print(Ex9())"
   ]
  },
  {
   "cell_type": "code",
   "execution_count": 14,
   "id": "0d22fc4d",
   "metadata": {},
   "outputs": [
    {
     "name": "stdout",
     "output_type": "stream",
     "text": [
      "[ 6  0  3 10  6]\n",
      "[1 9 6 4 9]\n",
      "[6]\n"
     ]
    }
   ],
   "source": [
    "def Ex10(A,B):\n",
    "    print(A)\n",
    "    print(B)\n",
    "    return np.intersect1d(A,B)\n",
    "print(Ex10(Ex5(),Ex5()))"
   ]
  },
  {
   "cell_type": "code",
   "execution_count": 15,
   "id": "21a142c5",
   "metadata": {},
   "outputs": [
    {
     "name": "stdout",
     "output_type": "stream",
     "text": [
      "[3 7 5 0 8]\n",
      "[0 3 5 7 8]\n"
     ]
    }
   ],
   "source": [
    "def Ex11(A):\n",
    "    print(A)\n",
    "    return np.unique(A)\n",
    "print(Ex11(Ex5()))"
   ]
  },
  {
   "cell_type": "code",
   "execution_count": 21,
   "id": "a7c10fbf",
   "metadata": {},
   "outputs": [
    {
     "name": "stdout",
     "output_type": "stream",
     "text": [
      "[-3  6 -3]\n"
     ]
    }
   ],
   "source": [
    "def Ex12():\n",
    "    A=np.array([1, 2, 3])\n",
    "    B= np.array([4, 5, 6])\n",
    "    return np.cross(A,B)\n",
    "print(Ex12())"
   ]
  },
  {
   "cell_type": "code",
   "execution_count": 22,
   "id": "b48c2bf5",
   "metadata": {},
   "outputs": [],
   "source": [
    "def Ex13():\n",
    "    return A"
   ]
  },
  {
   "cell_type": "code",
   "execution_count": 25,
   "id": "81daeedf",
   "metadata": {},
   "outputs": [
    {
     "name": "stdout",
     "output_type": "stream",
     "text": [
      "[6 0 1 5 4]\n",
      "7.9\n",
      "6\n"
     ]
    }
   ],
   "source": [
    "def Ex14(A,B):\n",
    "    print(A)\n",
    "    print(B)\n",
    "    C= np.abs(A-B)\n",
    "    return A[np.argmin(C)]\n",
    "print(Ex14(Ex5(),7.9))"
   ]
  },
  {
   "cell_type": "code",
   "execution_count": null,
   "id": "5c50271b",
   "metadata": {},
   "outputs": [],
   "source": []
  }
 ],
 "metadata": {
  "kernelspec": {
   "display_name": "Python 3 (ipykernel)",
   "language": "python",
   "name": "python3"
  },
  "language_info": {
   "codemirror_mode": {
    "name": "ipython",
    "version": 3
   },
   "file_extension": ".py",
   "mimetype": "text/x-python",
   "name": "python",
   "nbconvert_exporter": "python",
   "pygments_lexer": "ipython3",
   "version": "3.9.13"
  }
 },
 "nbformat": 4,
 "nbformat_minor": 5
}
